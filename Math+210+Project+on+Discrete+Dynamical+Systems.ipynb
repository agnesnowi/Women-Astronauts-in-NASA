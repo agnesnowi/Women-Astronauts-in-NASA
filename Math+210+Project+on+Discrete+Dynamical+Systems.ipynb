{
 "cells": [
  {
   "cell_type": "markdown",
   "metadata": {},
   "source": [
    "# MATH 210 Project I\n",
    "\n",
    "## Predicting and Understanding Discrete Dynamical systems using sympy.matrices\n",
    "\n",
    "### by Agnes Ouko"
   ]
  },
  {
   "cell_type": "markdown",
   "metadata": {},
   "source": [
    "SymPy is one of the core scientific computing packages in Python and the subpackage sympy.matrices addresses a number of computations, from creating  basic matrices to working with matrices in solving real world problems. Some of the computational problems addressed are (see the [documentation](http://docs.sympy.org/latest/modules/matrices/matrices.html)):\n",
    "\n",
    "1. Creating Matrices\n",
    "2. Basic Manipulation of Matrices\n",
    "3. Operations on entries\n",
    "4. Linear algebra\n",
    "5. MatrixBase Class Reference\n",
    "6. Matrix Exceptions Reference\n",
    "7. Matrix Functions Reference\n",
    "8. Numpy Utility Functions reference\n",
    "\n",
    "A [Dynamical system](https://en.wikipedia.org/wiki/Dynamical_system_(definition) can be described as a system whose state evolves with time over a state space according to a fixed rule while a discrete dynamical system is a dynamical system whose state evolves over state space in **discrete** time steps according to a fixed rule. (see [Documentation](http://mtl.math.uiuc.edu/book/export/html/77))\n",
    "\n",
    "Our main goal in this notebook is to use linear algebra in predicting and understanding the long-term behaviour or *evolution* of a dynamical system described by a difference equation $\\mathbf{x_{k+1}} = A \\mathbf{x_k}$. In particular, we will explore how to create matrices in sympy, perform basic operations like addition and multiplication of matrices, perform operations on the matrices entries and finally use all these operations in performing a few real life case scenarios of the behaviour of discrete dynamical systems.\n",
    "\n",
    "\n",
    "\n",
    "## Contents\n",
    "\n",
    "1. Creating Matrices in sympy\n",
    "2. Basic Manipulation of Matrices\n",
    "3. Operation on entries\n",
    "4. Linear Algebra\n",
    "5. Modelling and analyzing real-world issues:\n",
    "    * Population predictions\n",
    "    * Predator prey model\n",
    "6. Symbololism in SymPy\n",
    "7. Exercise\n"
   ]
  },
  {
   "cell_type": "code",
   "execution_count": 1,
   "metadata": {},
   "outputs": [],
   "source": [
    "import sympy.matrices as sm\n",
    "from sympy.matrices import Matrix, eye, zeros, ones, diag, GramSchmidt\n",
    "import numpy as np\n",
    "import matplotlib.pyplot as plt\n",
    "%matplotlib inline"
   ]
  },
  {
   "cell_type": "code",
   "execution_count": 2,
   "metadata": {},
   "outputs": [],
   "source": [
    "from sympy import init_printing\n",
    "init_printing()"
   ]
  },
  {
   "cell_type": "markdown",
   "metadata": {},
   "source": [
    "## 1. Creating Matrices in sympy\n",
    "\n",
    "We can either create matrices in sypmy or use Numpy arrays to create matrices. We are going to do both and choose the easiest and most convenient method of doing this. \n",
    "\n",
    "Let's us create $3 x 3$ matrices using both numpy arrays and sympy matrix"
   ]
  },
  {
   "cell_type": "code",
   "execution_count": 3,
   "metadata": {},
   "outputs": [
    {
     "data": {
      "text/latex": [
       "$$\\left[\\begin{matrix}1 & 2 & 3\\\\1 & 2 & 3\\end{matrix}\\right]$$"
      ],
      "text/plain": [
       "⎡1  2  3⎤\n",
       "⎢       ⎥\n",
       "⎣1  2  3⎦"
      ]
     },
     "execution_count": 3,
     "metadata": {},
     "output_type": "execute_result"
    }
   ],
   "source": [
    "M = Matrix([[1,2,3],[1,2,3]])\n",
    "M"
   ]
  },
  {
   "cell_type": "code",
   "execution_count": 4,
   "metadata": {},
   "outputs": [
    {
     "data": {
      "text/plain": [
       "array([[1, 2, 3],\n",
       "       [1, 2, 3]])"
      ]
     },
     "execution_count": 4,
     "metadata": {},
     "output_type": "execute_result"
    }
   ],
   "source": [
    "M = np.array([[1,2,3],[1,2,3]])\n",
    "M"
   ]
  },
  {
   "cell_type": "code",
   "execution_count": 5,
   "metadata": {},
   "outputs": [
    {
     "name": "stdout",
     "output_type": "stream",
     "text": [
      "[[2 2 1]\n",
      " [1 2 2]\n",
      " [2 1 1]]\n"
     ]
    },
    {
     "data": {
      "image/png": "[encoded data removed]",
      "text/latex": [
       "$$\\left ( 3, \\quad 3\\right )$$"
      ],
      "text/plain": [
       "(3, 3)"
      ]
     },
     "execution_count": 5,
     "metadata": {},
     "output_type": "execute_result"
    }
   ],
   "source": [
    "\n",
    "\n",
    "\n",
    "M = np.random.randint(1,3,[3,3])\n",
    "print(M)\n",
    "M.shape"
   ]
  },
  {
   "cell_type": "code",
   "execution_count": 6,
   "metadata": {},
   "outputs": [],
   "source": [
    "# this function can be used to create unit matrix different sizes\n",
    "\n",
    "def f(i,j):\n",
    "    if i == j:\n",
    "        return 1\n",
    "    else:\n",
    "        return 0"
   ]
  },
  {
   "cell_type": "code",
   "execution_count": 7,
   "metadata": {},
   "outputs": [
    {
     "data": {
      "text/latex": [
       "$$\\left[\\begin{matrix}1 & 0 & 0 & 0\\\\0 & 1 & 0 & 0\\\\0 & 0 & 1 & 0\\\\0 & 0 & 0 & 1\\end{matrix}\\right]$$"
      ],
      "text/plain": [
       "⎡1  0  0  0⎤\n",
       "⎢          ⎥\n",
       "⎢0  1  0  0⎥\n",
       "⎢          ⎥\n",
       "⎢0  0  1  0⎥\n",
       "⎢          ⎥\n",
       "⎣0  0  0  1⎦"
      ]
     },
     "execution_count": 7,
     "metadata": {},
     "output_type": "execute_result"
    }
   ],
   "source": [
    "Matrix(4,4,f)"
   ]
  },
  {
   "cell_type": "code",
   "execution_count": 8,
   "metadata": {},
   "outputs": [
    {
     "data": {
      "text/latex": [
       "$$\\left[\\begin{matrix}1 & 0\\\\0 & 1\\\\0 & 0\\end{matrix}\\right]$$"
      ],
      "text/plain": [
       "⎡1  0⎤\n",
       "⎢    ⎥\n",
       "⎢0  1⎥\n",
       "⎢    ⎥\n",
       "⎣0  0⎦"
      ]
     },
     "execution_count": 8,
     "metadata": {},
     "output_type": "execute_result"
    }
   ],
   "source": [
    "Matrix(3,2,f)"
   ]
  },
  {
   "cell_type": "code",
   "execution_count": 9,
   "metadata": {},
   "outputs": [
    {
     "data": {
      "text/latex": [
       "$$\\left[\\begin{matrix}1 & 0 & 0 & 0 & 0\\\\0 & 1 & 0 & 0 & 0\\\\0 & 0 & 1 & 0 & 0\\\\0 & 0 & 0 & 1 & 0\\\\0 & 0 & 0 & 0 & 1\\end{matrix}\\right]$$"
      ],
      "text/plain": [
       "⎡1  0  0  0  0⎤\n",
       "⎢             ⎥\n",
       "⎢0  1  0  0  0⎥\n",
       "⎢             ⎥\n",
       "⎢0  0  1  0  0⎥\n",
       "⎢             ⎥\n",
       "⎢0  0  0  1  0⎥\n",
       "⎢             ⎥\n",
       "⎣0  0  0  0  1⎦"
      ]
     },
     "execution_count": 9,
     "metadata": {},
     "output_type": "execute_result"
    }
   ],
   "source": [
    "Matrix(5,5,f)"
   ]
  },
  {
   "cell_type": "markdown",
   "metadata": {},
   "source": [
    "From the above examples, we see that we can either predetermine what values we want in our matrices or we can use `np.random.randint` to quickly generate matrices with random values. We can also use functions to create any kind of matrces we want.\n",
    "\n",
    "There are also a couple of special constructors for quick matrix construction: \n",
    "1. `eye` is the identity matrix, \n",
    "2. `zeros` and `ones` for matrices of all zeros and ones, respectively\n",
    "3. `diag` to put matrices or elements along the diagonal:\n",
    "\n"
   ]
  },
  {
   "cell_type": "code",
   "execution_count": 10,
   "metadata": {},
   "outputs": [
    {
     "data": {
      "text/latex": [
       "$$\\left[\\begin{matrix}1 & 0 & 0 & 0\\\\0 & 1 & 0 & 0\\\\0 & 0 & 1 & 0\\\\0 & 0 & 0 & 1\\end{matrix}\\right]$$"
      ],
      "text/plain": [
       "⎡1  0  0  0⎤\n",
       "⎢          ⎥\n",
       "⎢0  1  0  0⎥\n",
       "⎢          ⎥\n",
       "⎢0  0  1  0⎥\n",
       "⎢          ⎥\n",
       "⎣0  0  0  1⎦"
      ]
     },
     "execution_count": 10,
     "metadata": {},
     "output_type": "execute_result"
    }
   ],
   "source": [
    "eye(4)"
   ]
  },
  {
   "cell_type": "code",
   "execution_count": 11,
   "metadata": {},
   "outputs": [
    {
     "data": {
      "text/latex": [
       "$$\\left[\\begin{matrix}0 & 0 & 0\\\\0 & 0 & 0\\\\0 & 0 & 0\\end{matrix}\\right]$$"
      ],
      "text/plain": [
       "⎡0  0  0⎤\n",
       "⎢       ⎥\n",
       "⎢0  0  0⎥\n",
       "⎢       ⎥\n",
       "⎣0  0  0⎦"
      ]
     },
     "execution_count": 11,
     "metadata": {},
     "output_type": "execute_result"
    }
   ],
   "source": [
    "zeros(3)"
   ]
  },
  {
   "cell_type": "code",
   "execution_count": 12,
   "metadata": {},
   "outputs": [
    {
     "data": {
      "text/latex": [
       "$$\\left[\\begin{matrix}0 & 0 & 0\\\\0 & 0 & 0\\end{matrix}\\right]$$"
      ],
      "text/plain": [
       "⎡0  0  0⎤\n",
       "⎢       ⎥\n",
       "⎣0  0  0⎦"
      ]
     },
     "execution_count": 12,
     "metadata": {},
     "output_type": "execute_result"
    }
   ],
   "source": [
    "zeros(2,3)"
   ]
  },
  {
   "cell_type": "code",
   "execution_count": 13,
   "metadata": {},
   "outputs": [
    {
     "data": {
      "text/latex": [
       "$$\\left[\\begin{matrix}1 & 1 & 1\\\\1 & 1 & 1\\\\1 & 1 & 1\\end{matrix}\\right]$$"
      ],
      "text/plain": [
       "⎡1  1  1⎤\n",
       "⎢       ⎥\n",
       "⎢1  1  1⎥\n",
       "⎢       ⎥\n",
       "⎣1  1  1⎦"
      ]
     },
     "execution_count": 13,
     "metadata": {},
     "output_type": "execute_result"
    }
   ],
   "source": [
    "ones(3)"
   ]
  },
  {
   "cell_type": "code",
   "execution_count": 14,
   "metadata": {},
   "outputs": [
    {
     "data": {
      "text/latex": [
       "$$\\left[\\begin{matrix}1 & 1 & 1\\\\1 & 1 & 1\\end{matrix}\\right]$$"
      ],
      "text/plain": [
       "⎡1  1  1⎤\n",
       "⎢       ⎥\n",
       "⎣1  1  1⎦"
      ]
     },
     "execution_count": 14,
     "metadata": {},
     "output_type": "execute_result"
    }
   ],
   "source": [
    "ones(2,3)"
   ]
  },
  {
   "cell_type": "code",
   "execution_count": 15,
   "metadata": {},
   "outputs": [
    {
     "data": {
      "text/latex": [
       "$$\\left[\\begin{matrix}1 & 0 & 0 & 0\\\\0 & 1 & 2 & 3\\\\0 & 3 & 4 & 5\\end{matrix}\\right]$$"
      ],
      "text/plain": [
       "⎡1  0  0  0⎤\n",
       "⎢          ⎥\n",
       "⎢0  1  2  3⎥\n",
       "⎢          ⎥\n",
       "⎣0  3  4  5⎦"
      ]
     },
     "execution_count": 15,
     "metadata": {},
     "output_type": "execute_result"
    }
   ],
   "source": [
    "diag(1,Matrix([[1,2,3],[3,4,5]]))"
   ]
  },
  {
   "cell_type": "code",
   "execution_count": 16,
   "metadata": {},
   "outputs": [
    {
     "data": {
      "text/latex": [
       "$$\\left[\\begin{matrix}3 & 0 & 0 & 0\\\\0 & 1 & 2 & 3\\\\0 & 3 & 4 & 5\\end{matrix}\\right]$$"
      ],
      "text/plain": [
       "⎡3  0  0  0⎤\n",
       "⎢          ⎥\n",
       "⎢0  1  2  3⎥\n",
       "⎢          ⎥\n",
       "⎣0  3  4  5⎦"
      ]
     },
     "execution_count": 16,
     "metadata": {},
     "output_type": "execute_result"
    }
   ],
   "source": [
    "diag(3,Matrix([[1,2,3],[3,4,5]]))"
   ]
  },
  {
   "cell_type": "code",
   "execution_count": 17,
   "metadata": {},
   "outputs": [],
   "source": [
    "diag?\n"
   ]
  },
  {
   "cell_type": "markdown",
   "metadata": {},
   "source": [
    "## 2. Basic Manipulation of Matrices\n",
    "\n",
    "While learning to work with matrices, let’s choose one where the entries are readily identifiable. One useful thing to know is that while matrices are 2-dimensional, the storage is not and so it is allowable - though one should be careful - to access the entries as if they were a 1-d list. When working with matrices, each value has its unique position in the matrix and the position starts from `0` to `n`- `n` being the last position in the matrix, which contains the last value of the matrix."
   ]
  },
  {
   "cell_type": "code",
   "execution_count": null,
   "metadata": {},
   "outputs": [],
   "source": [
    "M = Matrix(2, 3, [1, 2, 3, 4, 5, 6])\n",
    "M"
   ]
  },
  {
   "cell_type": "code",
   "execution_count": null,
   "metadata": {},
   "outputs": [],
   "source": [
    "M[4] # this is the value in the fourth position of our matrix M"
   ]
  },
  {
   "cell_type": "code",
   "execution_count": null,
   "metadata": {},
   "outputs": [],
   "source": [
    "M[0]"
   ]
  },
  {
   "cell_type": "markdown",
   "metadata": {},
   "source": [
    " We can also use the `row and column positons` to find the corresponding value on that position."
   ]
  },
  {
   "cell_type": "code",
   "execution_count": null,
   "metadata": {},
   "outputs": [],
   "source": [
    "M[0,0]"
   ]
  },
  {
   "cell_type": "code",
   "execution_count": null,
   "metadata": {},
   "outputs": [],
   "source": [
    "M[0,2]"
   ]
  },
  {
   "cell_type": "markdown",
   "metadata": {},
   "source": [
    "Since this is Python we’re also able to slice submatrices; slices always give a matrix in return, even if the dimension is $1 x 1$:"
   ]
  },
  {
   "cell_type": "code",
   "execution_count": null,
   "metadata": {},
   "outputs": [],
   "source": [
    "M[0:2, 0:2]"
   ]
  },
  {
   "cell_type": "code",
   "execution_count": null,
   "metadata": {},
   "outputs": [],
   "source": [
    "M[0:3, 0:1]"
   ]
  },
  {
   "cell_type": "code",
   "execution_count": null,
   "metadata": {},
   "outputs": [],
   "source": [
    "M[0:,2]"
   ]
  },
  {
   "cell_type": "code",
   "execution_count": null,
   "metadata": {},
   "outputs": [],
   "source": [
    "M[0:1,2]"
   ]
  },
  {
   "cell_type": "markdown",
   "metadata": {
    "collapsed": true
   },
   "source": [
    "You cannot access rows or columns that are not present unless they are in a slice, for example:\n"
   ]
  },
  {
   "cell_type": "code",
   "execution_count": null,
   "metadata": {},
   "outputs": [],
   "source": [
    "M[:,10]\n",
    "\n",
    "# we get an error that basically tells us that the index 10 \n",
    "# is out of bounds for axis 1 with size 3"
   ]
  },
  {
   "cell_type": "markdown",
   "metadata": {
    "collapsed": true
   },
   "source": [
    "All the standard arithmetic operations are supported, as well as some vector operations"
   ]
  },
  {
   "cell_type": "code",
   "execution_count": null,
   "metadata": {},
   "outputs": [],
   "source": [
    "P = Matrix(([1,2,3,4],[5,6,7,8],[9,10,11,12],[13,14,15,16]))\n",
    "\n",
    "P"
   ]
  },
  {
   "cell_type": "code",
   "execution_count": null,
   "metadata": {},
   "outputs": [],
   "source": [
    "P + P"
   ]
  },
  {
   "cell_type": "code",
   "execution_count": null,
   "metadata": {},
   "outputs": [],
   "source": [
    "P * P # this is the same as P**2"
   ]
  },
  {
   "cell_type": "code",
   "execution_count": null,
   "metadata": {},
   "outputs": [],
   "source": [
    "P - P"
   ]
  },
  {
   "cell_type": "code",
   "execution_count": null,
   "metadata": {},
   "outputs": [],
   "source": [
    "P**3"
   ]
  },
  {
   "cell_type": "code",
   "execution_count": null,
   "metadata": {},
   "outputs": [],
   "source": [
    "P2  = Matrix(4,1,[1,5,0,3])\n",
    "\n",
    "P2"
   ]
  },
  {
   "cell_type": "code",
   "execution_count": null,
   "metadata": {},
   "outputs": [],
   "source": [
    "P * P2 # this is possible only when the number of columns in P are equal to the number of rows in P2"
   ]
  },
  {
   "cell_type": "code",
   "execution_count": null,
   "metadata": {},
   "outputs": [],
   "source": [
    "P.row_del(0) # we can delete an entire row from a matrix\n",
    "P"
   ]
  },
  {
   "cell_type": "code",
   "execution_count": null,
   "metadata": {},
   "outputs": [],
   "source": [
    "P.col_del(1)  # we can delete an entire column from a matrix\n",
    "P"
   ]
  },
  {
   "cell_type": "code",
   "execution_count": null,
   "metadata": {
    "collapsed": true
   },
   "outputs": [],
   "source": [
    "v1 = Matrix([1,2,3])\n",
    "v2 = Matrix([4,5,6])\n",
    "v3 = v1.cross(v2)\n"
   ]
  },
  {
   "cell_type": "code",
   "execution_count": null,
   "metadata": {},
   "outputs": [],
   "source": [
    "v1.dot(v2) # This is the dot product operation"
   ]
  },
  {
   "cell_type": "code",
   "execution_count": null,
   "metadata": {},
   "outputs": [],
   "source": [
    "v2.dot(v3)"
   ]
  },
  {
   "cell_type": "code",
   "execution_count": null,
   "metadata": {},
   "outputs": [],
   "source": [
    "v3"
   ]
  },
  {
   "cell_type": "code",
   "execution_count": null,
   "metadata": {},
   "outputs": [],
   "source": [
    "v1.dot(v3)"
   ]
  },
  {
   "cell_type": "markdown",
   "metadata": {},
   "source": [
    "We've seen that the row_del() and col_del() operations don’t return a value - they simply change the matrix object. We can also ‘’glue’’ together matrices of the appropriate order:"
   ]
  },
  {
   "cell_type": "code",
   "execution_count": null,
   "metadata": {},
   "outputs": [],
   "source": [
    "M1 = eye(3)\n",
    "M2 = zeros(3, 4)\n",
    "M1.row_join(M2)\n"
   ]
  },
  {
   "cell_type": "code",
   "execution_count": null,
   "metadata": {
    "collapsed": true
   },
   "outputs": [],
   "source": []
  },
  {
   "cell_type": "code",
   "execution_count": null,
   "metadata": {
    "collapsed": true
   },
   "outputs": [],
   "source": []
  },
  {
   "cell_type": "markdown",
   "metadata": {},
   "source": [
    "## 3. Operations on entries"
   ]
  },
  {
   "cell_type": "markdown",
   "metadata": {
    "collapsed": true
   },
   "source": [
    "We can multiply our matrices with scalars or we can apply functions to our matrices using `applyfunc()`."
   ]
  },
  {
   "cell_type": "code",
   "execution_count": null,
   "metadata": {},
   "outputs": [],
   "source": [
    "M = eye(3)\n",
    "M"
   ]
  },
  {
   "cell_type": "code",
   "execution_count": null,
   "metadata": {},
   "outputs": [],
   "source": [
    "2*M"
   ]
  },
  {
   "cell_type": "code",
   "execution_count": null,
   "metadata": {},
   "outputs": [],
   "source": [
    "f = lambda x: 2*x\n",
    "\n",
    "eye(3).applyfunc(f)"
   ]
  },
  {
   "cell_type": "markdown",
   "metadata": {},
   "source": [
    "We can also use the substitution function. Here, we declare a matrix with symbolic entries then substitute a value. \n",
    "\n",
    "**Note:** we can substitute anything, even another symbol!!!"
   ]
  },
  {
   "cell_type": "code",
   "execution_count": null,
   "metadata": {
    "collapsed": true
   },
   "outputs": [],
   "source": [
    "from sympy import Symbol"
   ]
  },
  {
   "cell_type": "code",
   "execution_count": null,
   "metadata": {},
   "outputs": [],
   "source": [
    "x = Symbol('x')\n",
    "M = eye(3) * x\n",
    "M"
   ]
  },
  {
   "cell_type": "code",
   "execution_count": null,
   "metadata": {},
   "outputs": [],
   "source": [
    "M.subs(x,4)"
   ]
  },
  {
   "cell_type": "code",
   "execution_count": null,
   "metadata": {},
   "outputs": [],
   "source": [
    "y = Symbol('y')\n",
    "M.subs(x,y)"
   ]
  },
  {
   "cell_type": "markdown",
   "metadata": {},
   "source": [
    "## 4. Linear Algebra"
   ]
  },
  {
   "cell_type": "markdown",
   "metadata": {
    "collapsed": true
   },
   "source": [
    "Now that we know how to create, manipulate and operate on matrix entries, let us get into the fun part. The first thing we will compute is the determinant of the matrix. There are afew ways to do this depending on the size of the matrix, we will only look at the in-built sympy function for computing determinants.\n",
    "\n",
    "    * Use the in-built determinant function for matrices of size $2 x 2$ and above"
   ]
  },
  {
   "cell_type": "markdown",
   "metadata": {
    "collapsed": true
   },
   "source": [
    "## a). Use the in-built determinant function"
   ]
  },
  {
   "cell_type": "code",
   "execution_count": null,
   "metadata": {},
   "outputs": [],
   "source": [
    "M = Matrix(([1,2,3],[3,6,2],[2,0,1]))\n",
    "M.det()"
   ]
  },
  {
   "cell_type": "code",
   "execution_count": null,
   "metadata": {},
   "outputs": [],
   "source": [
    "M2 = eye(2)\n",
    "M2.det()"
   ]
  },
  {
   "cell_type": "code",
   "execution_count": null,
   "metadata": {},
   "outputs": [],
   "source": [
    "M3 = Matrix(([1,0,0,0], [1,0,0,0], [1,0,0,0],[1,0,0,0]))\n",
    "\n",
    "M3.det()"
   ]
  },
  {
   "cell_type": "markdown",
   "metadata": {
    "collapsed": true
   },
   "source": [
    "Another common operation is the inverse: In SymPy, this is computed by Gaussian elimination by default (for dense matrices) but we can specify it be done by [$LU$ decomposition](https://en.wikipedia.org/wiki/LU_decomposition) as well:"
   ]
  },
  {
   "cell_type": "code",
   "execution_count": null,
   "metadata": {},
   "outputs": [],
   "source": [
    "T = Matrix(([1,2,3,4],[3,6,2,3],[2,0,1,5],[3,4,5,7]))\n",
    "T"
   ]
  },
  {
   "cell_type": "code",
   "execution_count": null,
   "metadata": {},
   "outputs": [],
   "source": [
    "T.inv()"
   ]
  },
  {
   "cell_type": "code",
   "execution_count": null,
   "metadata": {},
   "outputs": [],
   "source": [
    "T.inv(method= \"LU\")"
   ]
  },
  {
   "cell_type": "code",
   "execution_count": null,
   "metadata": {},
   "outputs": [],
   "source": [
    "T * T.inv(method= \"LU\")"
   ]
  },
  {
   "cell_type": "markdown",
   "metadata": {},
   "source": [
    "We can solve the system $Ax = b$ by passing the b vector to the matrix A's LUsolve function. Here we will brak the problem down so that we choose A and x then bultiply to get b. Then we can solve for x and check that it's correct:"
   ]
  },
  {
   "cell_type": "code",
   "execution_count": null,
   "metadata": {},
   "outputs": [],
   "source": [
    "L = Matrix([[2,3,5],[3,6,2],[8,3,6]])\n",
    "\n",
    "x = Matrix(3,1,[3,7,5])\n",
    "\n",
    "b = L*x\n",
    "\n",
    "soln = L.LUsolve(b)\n",
    "\n",
    "soln"
   ]
  },
  {
   "cell_type": "markdown",
   "metadata": {},
   "source": [
    "Now that we know how this works, let us try an example of our own:\n",
    "\n",
    "$A1*x = b1$\n",
    "\n",
    "$A1 = \\begin{bmatrix}           \n",
    "       2 & 3 & 5 \\\\[0.3em]\n",
    "       3 & 6 & 6 \\\\[0.3em]\n",
    "       8 & 3 & 6\n",
    "     \\end{bmatrix} $\n",
    "     \n",
    "$b1 = \\begin{bmatrix}\n",
    "       1 \\\\ 2 \\\\ 3 \n",
    "     \\end{bmatrix}$\n",
    "     \n",
    "**$x$** = ?\n"
   ]
  },
  {
   "cell_type": "code",
   "execution_count": null,
   "metadata": {},
   "outputs": [],
   "source": [
    "A1 = Matrix([[2,3,5],[3,6,2],[8,3,6]])\n",
    "\n",
    "b1 = Matrix(3,1,[1,2,3])\n",
    "\n",
    "\n",
    "ans = A1.LUsolve(b1)\n",
    "\n",
    "ans\n"
   ]
  },
  {
   "cell_type": "markdown",
   "metadata": {},
   "source": [
    "We can calculate the character polynomial of a matrix using the in-built function $.charpoly()$ and from the character polynomial we can find the eigenvalues and their respective eigenvectors."
   ]
  },
  {
   "cell_type": "code",
   "execution_count": null,
   "metadata": {},
   "outputs": [],
   "source": [
    "A2 = Matrix([[1,2,1],[6,-1,0],[-1,-2,-1]])\n",
    "\n",
    "A2"
   ]
  },
  {
   "cell_type": "code",
   "execution_count": null,
   "metadata": {},
   "outputs": [],
   "source": [
    "a = A2.charpoly()\n",
    "a"
   ]
  },
  {
   "cell_type": "code",
   "execution_count": null,
   "metadata": {},
   "outputs": [],
   "source": [
    "A2.eigenvals()"
   ]
  },
  {
   "cell_type": "code",
   "execution_count": null,
   "metadata": {},
   "outputs": [],
   "source": [
    "A2.eigenvects()"
   ]
  },
  {
   "cell_type": "markdown",
   "metadata": {},
   "source": [
    "## 5. Modelling and analyzing real-world problems:\n",
    "\n",
    "Now that we have the basics and the manipulation of matrices out of the way, let us now use this information in working out some real-world examples. We are going to look at two major areas:\n",
    "\n",
    "   #### 1. Population predictions\n",
    "   #### 2. Predator prey model\n",
    " "
   ]
  },
  {
   "cell_type": "markdown",
   "metadata": {},
   "source": [
    "## 1. Population Predictions\n",
    "\n",
    "\n",
    "Using the Markov process, we can estimate the population of Vancouver and Richmond, by considering their migration patterns. \n",
    "\n",
    "Let's assume that every year 5% of the population of Richmond moves to Vancouver and 10% of the Vancouver population moves to Richmond. We neglect all other effects on the populations of the two cities: no one gets born or dies, no one moves elsewhere, no one moves from outside Vancouver or Richmond to one of the two cities. Let us measure population size in multiple\n",
    "of 1,000.\n",
    "To describe the populations, we will use population vectors. These will be\n",
    "vectors $\\binom{v}{r}$ where v is the Vancouver population and r the Richmond population.\n",
    "Thus a population vector of $\\binom{300}{100}$ represents a population of 300,000 in Vancouver and 100,000 in Richmond.\n",
    "\n",
    "If the population vector in the current year, 2007, is $\\binom{300}{100}$, then next year\n",
    "the population vector will be $\\binom{275}{125}$. This is because 30 kilo-people (10% of 300 kilo-people) move from Vancouver to Richmond and 5 kilo-people (5% of 100 kilo-people) move from Richmond to Vancouver, resulting in a net gain of 25 kilo-people for Richmond."
   ]
  },
  {
   "cell_type": "markdown",
   "metadata": {
    "collapsed": true
   },
   "source": [
    "$\\begin{pmatrix} v_{n+1} \\\\ r_{n+1} \\end{pmatrix}$ = $\\begin{pmatrix} .9v_n + .05r_n \\\\ .1v_n + .95r_n \\end{pmatrix}$ = $\\begin{pmatrix} .9 & .05 \\\\ .1 & .95 \\end{pmatrix}$ $\\begin{pmatrix} v_n \\\\ r_n \\end{pmatrix}$"
   ]
  },
  {
   "cell_type": "code",
   "execution_count": 18,
   "metadata": {},
   "outputs": [
    {
     "data": {
      "text/latex": [
       "$$\\left[\\begin{matrix}0.9 & 0.05\\\\0.1 & 0.95\\end{matrix}\\right]$$"
      ],
      "text/plain": [
       "⎡0.9  0.05⎤\n",
       "⎢         ⎥\n",
       "⎣0.1  0.95⎦"
      ]
     },
     "execution_count": 18,
     "metadata": {},
     "output_type": "execute_result"
    }
   ],
   "source": [
    "B = Matrix([[0.9, 0.05],[0.1, 0.95]])\n",
    "\n",
    "B"
   ]
  },
  {
   "cell_type": "markdown",
   "metadata": {
    "collapsed": true
   },
   "source": [
    "Let us plot the population development for this example:\n"
   ]
  },
  {
   "cell_type": "code",
   "execution_count": 19,
   "metadata": {},
   "outputs": [
    {
     "data": {
      "text/latex": [
       "$$\\left[\\begin{matrix}300\\\\100\\end{matrix}\\right]$$"
      ],
      "text/plain": [
       "⎡300⎤\n",
       "⎢   ⎥\n",
       "⎣100⎦"
      ]
     },
     "execution_count": 19,
     "metadata": {},
     "output_type": "execute_result"
    }
   ],
   "source": [
    "# n = 0\n",
    "C = Matrix([[300],[100]])\n",
    "C"
   ]
  },
  {
   "cell_type": "code",
   "execution_count": 20,
   "metadata": {},
   "outputs": [
    {
     "data": {
      "text/latex": [
       "$$\\left[\\begin{matrix}275.0\\\\125.0\\end{matrix}\\right]$$"
      ],
      "text/plain": [
       "⎡275.0⎤\n",
       "⎢     ⎥\n",
       "⎣125.0⎦"
      ]
     },
     "execution_count": 20,
     "metadata": {},
     "output_type": "execute_result"
    }
   ],
   "source": [
    "# n = 1\n",
    "C1 = B * C\n",
    "C1\n"
   ]
  },
  {
   "cell_type": "code",
   "execution_count": 21,
   "metadata": {},
   "outputs": [
    {
     "data": {
      "text/latex": [
       "$$\\left[\\begin{matrix}253.75\\\\146.25\\end{matrix}\\right]$$"
      ],
      "text/plain": [
       "⎡253.75⎤\n",
       "⎢      ⎥\n",
       "⎣146.25⎦"
      ]
     },
     "execution_count": 21,
     "metadata": {},
     "output_type": "execute_result"
    }
   ],
   "source": [
    "# n = 2\n",
    "C2 = B * C1\n",
    "C2"
   ]
  },
  {
   "cell_type": "code",
   "execution_count": 22,
   "metadata": {},
   "outputs": [
    {
     "data": {
      "text/latex": [
       "$$\\left[\\begin{matrix}235.6875\\\\164.3125\\end{matrix}\\right]$$"
      ],
      "text/plain": [
       "⎡235.6875⎤\n",
       "⎢        ⎥\n",
       "⎣164.3125⎦"
      ]
     },
     "execution_count": 22,
     "metadata": {},
     "output_type": "execute_result"
    }
   ],
   "source": [
    "# n = 3\n",
    "C3 = B * C2\n",
    "C3"
   ]
  },
  {
   "cell_type": "code",
   "execution_count": 23,
   "metadata": {},
   "outputs": [
    {
     "data": {
      "image/png": "[encoded data removed]",
      "text/latex": [
       "$$\\left \\{ \\frac{17}{20} : 1, \\quad 1 : 1\\right \\}$$"
      ],
      "text/plain": [
       "⎧17         ⎫\n",
       "⎨──: 1, 1: 1⎬\n",
       "⎩20         ⎭"
      ]
     },
     "execution_count": 23,
     "metadata": {},
     "output_type": "execute_result"
    }
   ],
   "source": [
    "B.eigenvals()"
   ]
  },
  {
   "cell_type": "code",
   "execution_count": 24,
   "metadata": {},
   "outputs": [
    {
     "data": {
      "text/latex": [
       "$$\\left[\\begin{matrix}-0.1 & 0.05\\\\0.1 & -0.05\\end{matrix}\\right]$$"
      ],
      "text/plain": [
       "⎡-0.1  0.05 ⎤\n",
       "⎢           ⎥\n",
       "⎣0.1   -0.05⎦"
      ]
     },
     "execution_count": 24,
     "metadata": {},
     "output_type": "execute_result"
    }
   ],
   "source": [
    "# this is the matrix we get after subtracting the identity matrix from B\n",
    "# (B - lambda*I)\n",
    "vec_matrix = B - eye(2) \n",
    "vec_matrix"
   ]
  },
  {
   "cell_type": "markdown",
   "metadata": {},
   "source": [
    "We row reduce the vec_matrix to row reducing echeleon form using the [Gaussian elimination](https://en.wikipedia.org/wiki/Gaussian_elimination) to find the values of v and r. In this case we get the matrix: $$\\begin{pmatrix} 1 & 0.5 \\\\ 0 & 0 \\end{pmatrix}$$"
   ]
  },
  {
   "cell_type": "markdown",
   "metadata": {
    "collapsed": true
   },
   "source": [
    "After row reduction of the eigenvector, we get:\n",
    "\n",
    "$v = 0.5r$ and \n",
    "\n",
    "$r = r \\space (free)$\n",
    "\n",
    "$v + r = 300 + 100 = 400$\n",
    "\n",
    "$v - 0.5 = 0$\n",
    "\n",
    "$v + r = 400$\n",
    "\n",
    "$\\binom{v}{r}$ = $\\binom{133}{267}$"
   ]
  },
  {
   "cell_type": "code",
   "execution_count": null,
   "metadata": {
    "collapsed": true
   },
   "outputs": [],
   "source": []
  },
  {
   "cell_type": "markdown",
   "metadata": {
    "collapsed": true
   },
   "source": [
    "## 2. Preadtor Prey  model\n",
    "\n",
    "The predator-prey problem refers to an ecological system in which we have two species, one of which feeds on the other. This type of system has been studied for decades and is known to exhibit interesting dynamics. A simple model for this situation can be constructed using a `discrete-time model` by keeping track of the rate of births and deaths of each species. The following [Predator-prey simulation](http://www.ahahah.eu/trucs/pp/) can kind of show us the behaviour of predators and prey in their natural habitat. Let us use an example to illustrate how this works:\n",
    "\n",
    "#### Example: \n",
    "The spotted owl dines mainly on flying squirrels. Suppose the predator-prey matrix for these two populations is given by the matrix, $\"A\"$. Show that if the predation parameter, $p = 0.325$, both populations grow. Estimate the long-term growth rate and the eventual ratios of owls to flying squirrels.\n"
   ]
  },
  {
   "cell_type": "code",
   "execution_count": 25,
   "metadata": {},
   "outputs": [
    {
     "data": {
      "text/latex": [
       "$$\\left[\\begin{matrix}0.4 & 0.3\\\\-0.325 & 1.2\\end{matrix}\\right]$$"
      ],
      "text/plain": [
       "⎡ 0.4    0.3⎤\n",
       "⎢           ⎥\n",
       "⎣-0.325  1.2⎦"
      ]
     },
     "execution_count": 25,
     "metadata": {},
     "output_type": "execute_result"
    }
   ],
   "source": [
    "p = 0.325\n",
    "\n",
    "A = Matrix([[0.4, 0.3],[-p, 1.2]])\n",
    "\n",
    "A"
   ]
  },
  {
   "cell_type": "markdown",
   "metadata": {},
   "source": [
    "Denote the owl and squirrel populations at time \"k\" by the following vector where \"k\" is some unit of time: seconds, months, years, etc.\n",
    "\n",
    "$x_k = \\begin{pmatrix} O_k \\\\ S_k \\end{pmatrix}$\n",
    "\n",
    "$O_{k+1} = 0.4O_k + 0.3S_k $\n",
    "\n",
    "$S_{k+1} = -pO_k + 1.2S_k$\n",
    "\n",
    "If there are no squirrels, then 40% of the owls die after the expiration of the first unit of time. If there are no owls, then growth rate is 20% for the squirrels"
   ]
  },
  {
   "cell_type": "code",
   "execution_count": 26,
   "metadata": {},
   "outputs": [
    {
     "data": {
      "image/png": "[encoded data removed]",
      "text/latex": [
       "$$\\operatorname{PurePoly}{\\left( 1.0 \\lambda^{2} - 1.6 \\lambda + 0.5775, \\lambda, domain=\\mathbb{R} \\right)}$$"
      ],
      "text/plain": [
       "PurePoly(1.0*lambda**2 - 1.6*lambda + 0.5775, lambda, domain='RR')"
      ]
     },
     "execution_count": 26,
     "metadata": {},
     "output_type": "execute_result"
    }
   ],
   "source": [
    "A.charpoly()"
   ]
  },
  {
   "cell_type": "code",
   "execution_count": 27,
   "metadata": {},
   "outputs": [
    {
     "data": {
      "image/png": "[encoded data removed]",
      "text/latex": [
       "$$\\left \\{ \\frac{11}{20} : 1, \\quad \\frac{21}{20} : 1\\right \\}$$"
      ],
      "text/plain": [
       "⎧11     21   ⎫\n",
       "⎨──: 1, ──: 1⎬\n",
       "⎩20     20   ⎭"
      ]
     },
     "execution_count": 27,
     "metadata": {},
     "output_type": "execute_result"
    }
   ],
   "source": [
    "A.eigenvals()"
   ]
  },
  {
   "cell_type": "code",
   "execution_count": 28,
   "metadata": {},
   "outputs": [
    {
     "data": {
      "text/latex": [
       "$$\\left [ \\left ( 0.55, \\quad 1, \\quad \\left [ \\left[\\begin{matrix}2.0\\\\1.0\\end{matrix}\\right]\\right ]\\right ), \\quad \\left ( 1.05, \\quad 1, \\quad \\left [ \\left[\\begin{matrix}0.461538461538462\\\\1.0\\end{matrix}\\right]\\right ]\\right )\\right ]$$"
      ],
      "text/plain": [
       "⎡⎛         ⎡⎡2.0⎤⎤⎞  ⎛         ⎡⎡0.461538461538462⎤⎤⎞⎤\n",
       "⎢⎜0.55, 1, ⎢⎢   ⎥⎥⎟, ⎜1.05, 1, ⎢⎢                 ⎥⎥⎟⎥\n",
       "⎣⎝         ⎣⎣1.0⎦⎦⎠  ⎝         ⎣⎣       1.0       ⎦⎦⎠⎦"
      ]
     },
     "execution_count": 28,
     "metadata": {},
     "output_type": "execute_result"
    }
   ],
   "source": [
    "A.eigenvects()"
   ]
  },
  {
   "cell_type": "markdown",
   "metadata": {},
   "source": [
    "From the following equation:\n",
    "$$\\mathbf{x}_k = c_1 * (\\lambda_1)^k * v_1 + c_2 * (\\lambda_2)^k * v_2 + ... + c_n * (\\lambda_n)^k * v_n $$\n",
    "\n",
    "where $\\lambda$ is the eigenvalue of a matrix, $v_1$ is the eigenvector corresponding to the eigenvalue of the vector and $c$ is any arbitrary constant; we can be able to model and tell how the populations of the prey and predators will change\n"
   ]
  },
  {
   "cell_type": "markdown",
   "metadata": {},
   "source": [
    "$$\\mathbf{x}_k = c_1 * (0.55)^k * \\begin{pmatrix} 2 \\\\ 1 \\end{pmatrix} + c_2 * (1.05)^k * \\begin{pmatrix} 0.461538461538462 \\\\ 1 \\end{pmatrix} $$"
   ]
  },
  {
   "cell_type": "markdown",
   "metadata": {},
   "source": [
    "The dominant term here is $\\lambda = 1.05$ because:\n",
    "\n",
    "$\\lim_{k \\to \\infty} (1.05)^k = \\infty$ and $\\lim_{k \\to \\infty} (0.55)^k = 0$\n"
   ]
  },
  {
   "cell_type": "code",
   "execution_count": null,
   "metadata": {},
   "outputs": [],
   "source": [
    "# let us try and covert vector 2 into a matrix with integers\n",
    "vec2 = Matrix([[0.461538461538462],[1]])\n",
    "\n",
    "vec2"
   ]
  },
  {
   "cell_type": "code",
   "execution_count": null,
   "metadata": {},
   "outputs": [],
   "source": [
    "int_vec2 = vec2 * int(13)\n",
    "\n",
    "int_vec2"
   ]
  },
  {
   "cell_type": "markdown",
   "metadata": {},
   "source": [
    "Eventually, there will be 6 (thousand) owls for every 13 (thousand) flying squirels and both populations will grow at the same *5%* annual rate."
   ]
  },
  {
   "cell_type": "code",
   "execution_count": null,
   "metadata": {
    "collapsed": true
   },
   "outputs": [],
   "source": []
  },
  {
   "cell_type": "markdown",
   "metadata": {},
   "source": [
    "## Symbolism in SymPy"
   ]
  },
  {
   "cell_type": "code",
   "execution_count": null,
   "metadata": {
    "collapsed": true
   },
   "outputs": [],
   "source": [
    "from sympy import symbols "
   ]
  },
  {
   "cell_type": "markdown",
   "metadata": {},
   "source": [
    "SymPy is all about construction and manipulation of expressions. By the term expression we mean mathematical expressions represented in the Python language using SymPy’s classes and objects. Expressions may consist of symbols, numbers, functions and function applications (and many other) and operators binding them together (addiction, subtraction, multiplication, division, exponentiation). In this case we are going to look at mostly symbols; they allow for a greater level of expresiveness that can be embedded directly in the code, making it an excellent tool for science teachers to formulate their ideas; if we look at Latex as a \"static\" descriptive language, the symbols module in sympy is \"dynamic\", in the sense that it is part of the running code. If Latex allows you to perfectly describe the mathematical formulaes and Python code allows you to implement the mathematical concept then sympy symbols is the best way to have both of them : expressivenes + implementation. \n"
   ]
  },
  {
   "cell_type": "code",
   "execution_count": null,
   "metadata": {},
   "outputs": [],
   "source": [
    "m = Symbol('m')\n",
    "n = Symbol('n')\n",
    "o = Symbol('o')\n",
    "p = Symbol('p')\n",
    "\n",
    "B = Matrix([[m,n],[o,p]])\n",
    "B"
   ]
  },
  {
   "cell_type": "code",
   "execution_count": null,
   "metadata": {},
   "outputs": [],
   "source": [
    "P = B.charpoly()\n",
    "P"
   ]
  },
  {
   "cell_type": "code",
   "execution_count": null,
   "metadata": {},
   "outputs": [],
   "source": [
    "B.subs({m:1,n:2,o:3,p:4})"
   ]
  },
  {
   "cell_type": "code",
   "execution_count": null,
   "metadata": {},
   "outputs": [],
   "source": [
    "a,b,c,d = symbols('a,b,c,d')\n",
    "e,f,g,h,i = symbols('e,f,g,h,i')"
   ]
  },
  {
   "cell_type": "code",
   "execution_count": null,
   "metadata": {},
   "outputs": [],
   "source": [
    "A = Matrix([[a,b,c],[d,e,f],[g,h,i]])\n",
    "A"
   ]
  },
  {
   "cell_type": "code",
   "execution_count": null,
   "metadata": {},
   "outputs": [],
   "source": [
    "A.det()"
   ]
  },
  {
   "cell_type": "code",
   "execution_count": null,
   "metadata": {},
   "outputs": [],
   "source": [
    "A.charpoly()"
   ]
  },
  {
   "cell_type": "code",
   "execution_count": null,
   "metadata": {},
   "outputs": [],
   "source": []
  },
  {
   "cell_type": "code",
   "execution_count": null,
   "metadata": {
    "collapsed": true
   },
   "outputs": [],
   "source": []
  },
  {
   "cell_type": "code",
   "execution_count": null,
   "metadata": {
    "collapsed": true
   },
   "outputs": [],
   "source": []
  },
  {
   "cell_type": "code",
   "execution_count": null,
   "metadata": {
    "collapsed": true
   },
   "outputs": [],
   "source": []
  },
  {
   "cell_type": "markdown",
   "metadata": {},
   "source": [
    "## 7. Exercises"
   ]
  },
  {
   "cell_type": "markdown",
   "metadata": {
    "collapsed": true
   },
   "source": [
    "#### 1. \n",
    "Consider an experiment where salt crystals are grown in a supersaturated solution. The mass of a crystal grows over 24 hours based on the updating function $$m_{t+1} = 1.5m_t$$ Given that the crystal originally has a mass of 10 grams, express the solution to this system, both in a table, graphically, and as a formula.\n",
    "\n",
    "\n",
    "#### 2. \n",
    "Construct a stage matrix for an animal species has \"2\" life stages: juvenile (up to \"1\" year old) and adult. The female adults give birth to an average of \"1.6\" female juveniles. Each year, 30% of the juveniles survive to become adults and 80% of the adults survive.\n",
    " "
   ]
  },
  {
   "cell_type": "code",
   "execution_count": null,
   "metadata": {
    "collapsed": true
   },
   "outputs": [],
   "source": []
  }
 ],
 "metadata": {
  "kernelspec": {
   "display_name": "Python 3",
   "language": "python",
   "name": "python3"
  },
  "language_info": {
   "codemirror_mode": {
    "name": "ipython",
    "version": 3
   },
   "file_extension": ".py",
   "mimetype": "text/x-python",
   "name": "python",
   "nbconvert_exporter": "python",
   "pygments_lexer": "ipython3",
   "version": "3.7.0"
  }
 },
 "nbformat": 4,
 "nbformat_minor": 2
}
